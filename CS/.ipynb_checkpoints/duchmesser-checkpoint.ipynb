{
 "cells": [
  {
   "cell_type": "code",
   "execution_count": 1,
   "metadata": {
    "inputHidden": false,
    "outputHidden": false
   },
   "outputs": [],
   "source": [
    "import pandas as pd\n",
    "import numpy as np\n",
    "import matplotlib.pyplot as plt"
   ]
  },
  {
   "cell_type": "code",
   "execution_count": 2,
   "metadata": {
    "inputHidden": false,
    "outputHidden": false
   },
   "outputs": [],
   "source": [
    "durch = pd.DataFrame()\n",
    "null = pd.DataFrame()\n",
    "durch['2mm'] = np.genfromtxt('data/VI_2mm.txt')\n",
    "durch['6mm'] = np.genfromtxt('data/IV_60_Alu.txt')\n",
    "durch['8mm'] = np.genfromtxt('data/VI_8mm.txt')\n",
    "durch['15mm'] = np.genfromtxt('data/VI_15mm.txt')\n",
    "durch['20mm'] = np.genfromtxt('data/VI_20mm.txt')\n",
    "null['Null'] = np.genfromtxt('data/IV_60_N0.txt')"
   ]
  },
  {
   "cell_type": "code",
   "execution_count": 3,
   "metadata": {
    "inputHidden": false,
    "outputHidden": false
   },
   "outputs": [],
   "source": [
    "# Zählrate bestimmen\n",
    "durch_rate = pd.DataFrame()\n",
    "for i in durch.columns:\n",
    "    durch_rate[i] = durch[i].iloc[2:] / (durch[i].iloc[0]-durch[i].iloc[1])\n",
    "null_rate = pd.DataFrame()\n",
    "null_rate['Null'] = null['Null'].iloc[2:] / (null['Null'].iloc[0]-null['Null'].iloc[1])"
   ]
  },
  {
   "cell_type": "code",
   "execution_count": 4,
   "metadata": {
    "inputHidden": false,
    "outputHidden": false
   },
   "outputs": [],
   "source": [
    "# Nullrate abziehen\n",
    "durch_cleaned = pd.DataFrame()\n",
    "for i in durch_rate.columns:\n",
    "    durch_cleaned[i] = durch_rate[i] - null_rate['Null']"
   ]
  },
  {
   "cell_type": "code",
   "execution_count": 5,
   "metadata": {
    "inputHidden": false,
    "outputHidden": false
   },
   "outputs": [],
   "source": [
    "delta_null = np.sqrt(null['Null'].iloc[2:].sum())/ (null['Null'].iloc[0]-null['Null'].iloc[1])\n",
    "durch_n_delta = []\n",
    "for i in durch.columns:\n",
    "    durch_n_delta.append(np.sqrt(durch[i].iloc[2:].sum())/ (durch[i].iloc[0]-durch[i].iloc[1]))\n",
    "delta_n = np.sqrt(np.asarray(durch_n_delta)**2 + delta_null**2)"
   ]
  },
  {
   "cell_type": "code",
   "execution_count": 6,
   "metadata": {
    "inputHidden": false,
    "outputHidden": false
   },
   "outputs": [],
   "source": [
    "from scipy.optimize import curve_fit\n",
    "def exp_fit(x, a, b):\n",
    "    return a*(1 - np.exp(b*x))"
   ]
  },
  {
   "cell_type": "code",
   "execution_count": 7,
   "metadata": {
    "inputHidden": false,
    "outputHidden": false
   },
   "outputs": [
    {
     "data": {
      "image/png": "[encoded data removed]",
      "text/plain": [
       "<Figure size 432x288 with 1 Axes>"
      ]
     },
     "metadata": {
      "needs_background": "light"
     },
     "output_type": "display_data"
    }
   ],
   "source": [
    "durchmesser_summe = durch_cleaned.sum()\n",
    "d = [2, 6, 8, 15, 20]\n",
    "plt.errorbar(d, durchmesser_summe, xerr=0.05, yerr=delta_n, fmt='x', label='$\\dot{N}_G - \\dot{N}_0$')\n",
    "plt.xlabel('Durchmesser Streukörper [mm]')\n",
    "plt.ylabel('Gesamtzählrate [s⁻¹]')\n",
    "fit, std = curve_fit(exp_fit, d, durchmesser_summe, p0=[20, -1])\n",
    "plt.plot(np.linspace(2, 20, 100), [ exp_fit(i, fit[0], fit[1]) for i in np.linspace(2,20,100)], label='Fit')\n",
    "plt.legend()\n",
    "plt.savefig('images/durchmesser.png', dpi=300)"
   ]
  },
  {
   "cell_type": "code",
   "execution_count": null,
   "metadata": {},
   "outputs": [],
   "source": []
  }
 ],
 "metadata": {
  "kernelspec": {
   "display_name": "Praktikum",
   "language": "python",
   "name": "prak"
  },
  "language_info": {
   "codemirror_mode": {
    "name": "ipython",
    "version": 3
   },
   "file_extension": ".py",
   "mimetype": "text/x-python",
   "name": "python",
   "nbconvert_exporter": "python",
   "pygments_lexer": "ipython3",
   "version": "3.8.1"
  }
 },
 "nbformat": 4,
 "nbformat_minor": 1
}
