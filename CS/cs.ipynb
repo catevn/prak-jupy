{
  "cells": [
    {
      "cell_type": "code",
      "source": [
        "import pandas as pd\n",
        "from scipy.signal import find_peaks\n",
        "import numpy as np\n",
        "from scipy.optimize import curve_fit\n",
        "import matplotlib.pyplot as plt"
      ],
      "outputs": [],
      "execution_count": null,
      "metadata": {
        "collapsed": false,
        "outputHidden": false,
        "inputHidden": false
      }
    },
    {
      "cell_type": "code",
      "source": [
        "kalib = pd.DataFrame()"
      ],
      "outputs": [],
      "execution_count": null,
      "metadata": {
        "collapsed": false,
        "outputHidden": false,
        "inputHidden": false
      }
    },
    {
      "cell_type": "code",
      "source": [
        "def gaussian(x, a, x_0, sigma):\n",
        "    return a*np.exp(-(x-x_0)**2/sigma**2)"
      ],
      "outputs": [],
      "execution_count": null,
      "metadata": {
        "collapsed": false,
        "outputHidden": false,
        "inputHidden": false
      }
    },
    {
      "cell_type": "code",
      "source": [
        "# Datenimport\n",
        "kalib['cs'] = np.genfromtxt('data/kalib_cs137.txt')\n",
        "kalib['cs'] = kalib['cs'].iloc[2:]\n",
        "\n",
        "kalib['ba'] = np.genfromtxt('data/kalib_ba133.txt')\n",
        "kalib['ba'] = kalib['ba'].iloc[2:]\n",
        "\n",
        "kalib['am'] = np.genfromtxt('data/kalib_am241.txt')\n",
        "kalib['am'] = kalib['am'].iloc[2:]\n",
        "kalib.dropna(inplace=True)\n",
        "kalib['N'] = np.asarray(range(16382))+1"
      ],
      "outputs": [],
      "execution_count": null,
      "metadata": {
        "collapsed": false,
        "outputHidden": false,
        "inputHidden": false
      }
    },
    {
      "cell_type": "code",
      "source": [
        "kalib.drop(columns=['N']).iloc[:1500].plot()\n",
        "kalib['cs'].iloc[:1500].plot()"
      ],
      "outputs": [],
      "execution_count": null,
      "metadata": {
        "collapsed": false,
        "outputHidden": false,
        "inputHidden": false
      }
    },
    {
      "cell_type": "code",
      "source": [
        "# I. Kalibrierung\n",
        "linear = []"
      ],
      "outputs": [],
      "execution_count": null,
      "metadata": {
        "collapsed": false,
        "outputHidden": false,
        "inputHidden": false
      }
    },
    {
      "cell_type": "code",
      "source": [
        "kalib['am'].iloc[1050:1090].plot()\n",
        "am_1_fit, am_1_dev = curve_fit(gaussian, kalib['N'].iloc[1050:1090], kalib['am'].iloc[1050:1090], p0=[10, 1072, 10])\n",
        "plt.plot([i for i in  range(1050, 1090)],[gaussian(i-1, am_1_fit[0], am_1_fit[1], am_1_fit[2]) for i in range(1050, 1090)])\n",
        "linear.append([am_1_fit[1], 59.54092, np.sqrt(am_1_dev[1][1])])"
      ],
      "outputs": [],
      "execution_count": null,
      "metadata": {
        "collapsed": false,
        "outputHidden": false,
        "inputHidden": false
      }
    },
    {
      "cell_type": "code",
      "source": [
        "kalib['am'].iloc[2120:2170].plot()\n",
        "am_2_fit, am_2_dev = curve_fit(gaussian, kalib['N'].iloc[2120:2170], kalib['am'].iloc[2120:2170], p0=[10, 2145, 10])\n",
        "plt.plot([i for i in  range(2120, 2170)],[gaussian(i-1, am_2_fit[0], am_2_fit[1], am_2_fit[2]) for i in range(2120, 2170)])\n",
        "linear.append([am_2_fit[1], 102.959, np.sqrt(am_2_dev[1][1])])"
      ],
      "outputs": [],
      "execution_count": null,
      "metadata": {
        "collapsed": false,
        "outputHidden": false,
        "inputHidden": false
      }
    },
    {
      "cell_type": "code",
      "source": [
        "kalib['cs'].iloc[550:600].plot()\n",
        "cs_1_fit, cs_1_dev = curve_fit(gaussian, kalib['N'].iloc[550:600], kalib['cs'].iloc[550:600], p0=[10, 580, 10])\n",
        "plt.plot([i for i in  range(550, 600)],[gaussian(i-1, cs_1_fit[0], cs_1_fit[1], cs_1_fit[2]) for i in range(550, 600)])\n",
        "linear.append([cs_1_fit[1], 32.0604505300353, np.sqrt(cs_1_dev[1][1])])"
      ],
      "outputs": [],
      "execution_count": null,
      "metadata": {
        "collapsed": false,
        "outputHidden": false,
        "inputHidden": false
      }
    },
    {
      "cell_type": "code",
      "source": [
        "kalib['cs'].iloc[630:680].plot()\n",
        "cs_2_fit, cs_2_dev = curve_fit(gaussian, kalib['N'].iloc[630:680], kalib['cs'].iloc[630:680], p0=[10, 650, 10])\n",
        "plt.plot([i for i in  range(630, 680)],[gaussian(i-1, cs_2_fit[0], cs_2_fit[1], cs_2_fit[2]) for i in range(630, 680)])\n",
        "# Nicht verwenden.\n"
      ],
      "outputs": [],
      "execution_count": null,
      "metadata": {
        "collapsed": false,
        "outputHidden": false,
        "inputHidden": false
      }
    },
    {
      "cell_type": "code",
      "source": [
        "kalib['ba'].iloc[530:580].plot()\n",
        "ba_1_fit, ba_1_dev = curve_fit(gaussian, kalib['N'].iloc[530:580], kalib['ba'].iloc[530:580], p0=[10, 555, 10])\n",
        "plt.plot([i for i in  range(530, 580)],[gaussian(i-1, ba_1_fit[0], ba_1_fit[1], ba_1_fit[2]) for i in range(530, 580)])\n",
        "# 30.8\n",
        "linear.append([ba_1_fit[1], 30.8, np.sqrt(ba_1_dev[1][1])])"
      ],
      "outputs": [],
      "execution_count": null,
      "metadata": {
        "collapsed": false,
        "outputHidden": false,
        "inputHidden": false
      }
    },
    {
      "cell_type": "code",
      "source": [
        "kalib['ba'].iloc[940:970].plot()\n",
        "ba_3_fit, ba_3_dev = curve_fit(gaussian, kalib['N'].iloc[940:970], kalib['ba'].iloc[940:970], p0=[10, 960, 10])\n",
        "plt.plot([i for i in  range(940, 970)],[gaussian(i-1, ba_3_fit[0], ba_3_fit[1], ba_3_fit[2]) for i in range(940, 970)])\n",
        "# 30.8\n",
        "linear.append([ba_3_fit[1], 53.1622, np.sqrt(ba_3_dev[1][1])])"
      ],
      "outputs": [],
      "execution_count": null,
      "metadata": {
        "collapsed": false,
        "outputHidden": false,
        "inputHidden": false
      }
    },
    {
      "cell_type": "code",
      "source": [
        "kalib['ba'].iloc[1440:1470].plot()\n",
        "ba_2_fit, ba_2_dev = curve_fit(gaussian, kalib['N'].iloc[1440:1470], kalib['ba'].iloc[1440:1470], p0=[10, 1458, 10])\n",
        "plt.plot([i for i in  range(1440, 1470)],[gaussian(i-1, ba_2_fit[0], ba_2_fit[1], ba_2_fit[2]) for i in range(1440, 1470)])\n",
        "# 80.9979\n",
        "linear.append([ba_2_fit[1], 80.9979, np.sqrt(ba_2_dev[1][1])])\n",
        "linear"
      ],
      "outputs": [],
      "execution_count": null,
      "metadata": {
        "collapsed": false,
        "outputHidden": false,
        "inputHidden": false
      }
    },
    {
      "cell_type": "code",
      "source": [
        "def lin_fit(x, m, b, c):\n",
        "    return m*x**2 + b*x + c\n",
        "    # return b*x + c\n",
        "plt.errorbar(x=[linear[i][0] for i in range(6)], y=[linear[i][1] for i in range(6)], xerr=[linear[i][2] for i in range(6)], fmt='x', label='Peaks')\n",
        "regr_fit, regr_dev = curve_fit(lin_fit, [linear[i][0] for i in range(6)], [linear[i][1] for i in range(6)])\n",
        "plt.plot([i for i in range(500, 2200)], [lin_fit(i, regr_fit[0], regr_fit[1], regr_fit[2]) for i in range(500, 2200)], label='Fit')\n",
        "plt.legend()\n",
        "plt.xlabel('Kanal [-]')\n",
        "plt.ylabel('Photonenenergie [keV]')\n",
        "plt.savefig('images/kalibration.png', dpi=300)"
      ],
      "outputs": [],
      "execution_count": null,
      "metadata": {
        "collapsed": false,
        "outputHidden": false,
        "inputHidden": false
      }
    },
    {
      "cell_type": "code",
      "source": [
        "def e_of_k(k):\n",
        "    return lin_fit(k, regr_fit[0], regr_fit[1], regr_fit[2])"
      ],
      "outputs": [],
      "execution_count": null,
      "metadata": {
        "collapsed": false,
        "outputHidden": false,
        "inputHidden": false
      }
    },
    {
      "cell_type": "code",
      "source": [
        "def delta_e(k):\n",
        "    return np.sqrt(k**4 * regr_dev[0][0] + k**2 * regr_dev[1][1] + regr_dev[2][2])"
      ],
      "outputs": [],
      "execution_count": null,
      "metadata": {
        "collapsed": false,
        "outputHidden": false,
        "inputHidden": false
      }
    },
    {
      "cell_type": "code",
      "source": [
        "# IV Bestimmung der Energie gestreuter Photonen\n",
        "# Datenimport\n",
        "winkel = pd.DataFrame()\n",
        "winkel['30_Alu'] = np.genfromtxt('data/IV_30_Alu.txt')\n",
        "winkel['40_Alu'] = np.genfromtxt('data/IV_40_Alu.txt')\n",
        "winkel['50_Alu'] = np.genfromtxt('data/IV_50_Alu.txt')\n",
        "winkel['60_Alu'] = np.genfromtxt('data/IV_60_Alu.txt')\n",
        "winkel['70_Alu'] = np.genfromtxt('data/IV_70_Alu.txt')\n",
        "winkel['80_Alu'] = np.genfromtxt('data/IV_80_Alu.txt')\n",
        "winkel['90_Alu'] = np.genfromtxt('data/IV_90_Alu.txt')\n",
        "winkel['100_Alu'] = np.genfromtxt('data/IV_100_Alu.txt')\n",
        "winkel['110_Alu'] = np.genfromtxt('data/IV_110_Alu.txt')\n",
        "winkel['120_Alu'] = np.genfromtxt('data/IV_120_Alu.txt')\n",
        "winkel['130_Alu'] = np.genfromtxt('data/IV_130_Alu.txt')\n",
        "winkel['30_N0'] = np.genfromtxt('data/IV_30_N0.txt')\n",
        "winkel['40_N0'] = np.genfromtxt('data/IV_40_N0.txt')\n",
        "winkel['50_N0'] = np.genfromtxt('data/IV_50_N0.txt')\n",
        "winkel['60_N0'] = np.genfromtxt('data/IV_60_N0.txt')\n",
        "winkel['70_N0'] = np.genfromtxt('data/IV_70_N0.txt')\n",
        "winkel['80_N0'] = np.genfromtxt('data/IV_80_N0.txt')\n",
        "winkel['90_N0'] = np.genfromtxt('data/IV_90_N0.txt')\n",
        "winkel['100_N0'] = np.genfromtxt('data/IV_100_N0.txt')\n",
        "winkel['110_N0'] = np.genfromtxt('data/IV_110_N0.txt')\n",
        "winkel['120_N0'] = np.genfromtxt('data/IV_120_N0.txt')\n",
        "winkel['130_N0'] = np.genfromtxt('data/IV_130_N0.txt')"
      ],
      "outputs": [],
      "execution_count": null,
      "metadata": {
        "collapsed": false,
        "outputHidden": false,
        "inputHidden": false
      }
    },
    {
      "cell_type": "code",
      "source": [
        "# Berechnung der Zählraten\n",
        "winkel_rate = pd.DataFrame()\n",
        "for i in winkel.columns:\n",
        "    winkel_rate[i] = winkel[i].iloc[2:] / (winkel[i].iloc[0]-winkel[i].iloc[1])\n",
        "\n",
        "# NG - N0\n",
        "winkel_cleaned = pd.DataFrame()\n",
        "for i in range(11):\n",
        "    winkel_cleaned[winkel_rate.columns[i]] = winkel_rate[winkel_rate.columns[i]] - winkel_rate[winkel_rate.columns[i+11]]\n",
        "winkel_cleaned['N'] = np.asarray(range(16382))+1\n"
      ],
      "outputs": [],
      "execution_count": null,
      "metadata": {
        "collapsed": false,
        "outputHidden": false,
        "inputHidden": false
      }
    },
    {
      "cell_type": "code",
      "source": [
        "winkel_cleaned.drop(columns='N').iloc[800:1100].plot()\n",
        "winkel_cleaned.sum()"
      ],
      "outputs": [],
      "execution_count": null,
      "metadata": {
        "collapsed": false,
        "outputHidden": false,
        "inputHidden": false
      }
    },
    {
      "cell_type": "code",
      "source": [
        "from kleinnishina import kleinnishina\n",
        "from kleinnishina import mu as mu_function"
      ],
      "outputs": [],
      "execution_count": null,
      "metadata": {
        "collapsed": false,
        "outputHidden": false,
        "inputHidden": false
      }
    },
    {
      "cell_type": "code",
      "source": [
        "winkel_bin = []\n",
        "n_int = []\n",
        "n_int_err = []\n",
        "for i in range(11):\n",
        "    fit, std = curve_fit(gaussian, winkel_cleaned['N'].iloc[800:1100], winkel_cleaned[winkel_cleaned.columns[i]].iloc[800:1100], p0=[1, 950, 10])\n",
        "    winkel_bin.append(fit[1])\n",
        "    # n_int.append(fit[0]*np.sqrt(np.pi*fit[2]))\n",
        "    n_int.append(winkel_cleaned[winkel_cleaned.columns[i]].iloc[800:1100].sum())\n",
        "    n_int_err.append(np.sqrt(fit[2]*np.pi*std[0][0]+std[2][2]*(fit[0]*np.pi)**2/(4*fit[2]*np.pi)))\n",
        "\n",
        "mu = np.cos(np.pi * np.linspace(30, 130, 11)/180)\n",
        "mu_err = abs(np.sin(np.pi * np.linspace(30, 130, 11)/180)*2*np.pi/180)\n",
        "energien = [lin_fit(i, regr_fit[0], regr_fit[1], regr_fit[2]) for i in winkel_bin]\n"
      ],
      "outputs": [],
      "execution_count": null,
      "metadata": {
        "collapsed": false,
        "outputHidden": false,
        "inputHidden": false
      }
    },
    {
      "cell_type": "code",
      "source": [
        "# Berechnung Proportionalitätsfaktor wirkungsquerschnitt und Zählrate\n",
        "lamda = [ kleinnishina(i) for i in np.linspace(30, 130, 11)] / np.asarray(n_int)\n",
        "lamda_opt = lamda.mean()\n",
        "lamda_std = lamda.std(ddof=1)\n",
        "lamda_opt*1e31\n",
        "lamda_std*1e31/np.sqrt(11)"
      ],
      "outputs": [],
      "execution_count": null,
      "metadata": {
        "collapsed": false,
        "outputHidden": false,
        "inputHidden": false
      }
    },
    {
      "cell_type": "code",
      "source": [
        "plt.errorbar(mu,1e31*lamda_opt*np.asarray(n_int), xerr=mu_err, fmt='x', yerr=np.sqrt(lamda_opt**2*np.asarray(n_int_err)**2 + lamda_std**2*1e31*np.asarray(n_int)), label='Messwerte')\n",
        "plt.plot([mu_function(i) for i in np.linspace(30, 130, 100)], [ 1e31*kleinnishina(i) for i in np.linspace(30, 130, 100)], label='$\\sigma_{\\Omega}^{KN}$')\n",
        "plt.xlabel('µ')\n",
        "plt.ylabel('$\\sigma$ [mb]')\n",
        "plt.legend()\n",
        "plt.savefig('images/wirkungsquerschnitt.png', dpi=300)"
      ],
      "outputs": [],
      "execution_count": null,
      "metadata": {
        "collapsed": false,
        "outputHidden": false,
        "inputHidden": false
      }
    },
    {
      "cell_type": "code",
      "source": [
        "delta_x = linear[2][2]\n",
        "energien_fehler = np.sqrt(np.asarray(energien)**4 * regr_dev[0][0]+ np.asarray(energien)**2 * regr_dev[1][1] + regr_dev[2][2] + (2*regr_fit[0]*np.asarray(energien) + regr_fit[1])**2 * delta_x**2)\n",
        "plt.errorbar(mu, energien, xerr=mu_err, yerr=energien_fehler, fmt='x')\n",
        "plt.xlabel('µ [-]')\n",
        "plt.ylabel('Energie [keV]')\n",
        "plt.plot([ np.cos( np.pi * i / 180) for i in np.linspace(30, 130, 100) ], [ e_of_theta(i) for i in np.linspace(30, 130, 100)])\n",
        "plt.savefig('images/winkelenergie.png', dpi=300)\n"
      ],
      "outputs": [],
      "execution_count": null,
      "metadata": {
        "collapsed": false,
        "outputHidden": false,
        "inputHidden": false
      }
    },
    {
      "cell_type": "code",
      "source": [
        "# Histogramm\n",
        "N = np.genfromtxt('data/II_histogramm_Am241.txt')\n",
        "N_0 = np.genfromtxt('data/III_histogramm_Nullmessung.txt')"
      ],
      "outputs": [],
      "execution_count": null,
      "metadata": {
        "collapsed": false,
        "outputHidden": false,
        "inputHidden": false
      }
    },
    {
      "cell_type": "code",
      "source": [
        "N_dot = pd.DataFrame()\n",
        "N_dot['N'] = N[2:] / (N[0]-N[1])\n",
        "N_dot['N_0'] = N_0[2:] / (N_0[0]-N_0[1])"
      ],
      "outputs": [],
      "execution_count": null,
      "metadata": {
        "collapsed": false,
        "outputHidden": false,
        "inputHidden": false
      }
    },
    {
      "cell_type": "code",
      "source": [
        "# N_dot.drop(columns=['hist', 'K']).iloc[:2000].plot()\n",
        "N_dot['hist'] = N_dot['N'] - N_dot['N_0']\n",
        "N_dot['K'] = np.asarray(range(16382)) + 1\n",
        "N_dot['E'] = [ e_of_k(i) for i in N_dot['K']]\n",
        "plt.plot(N_dot['E'].iloc[500:2000], N_dot['N'].iloc[500:2000], label='$\\dot{N}_G$')\n",
        "plt.plot(N_dot['E'].iloc[500:2000], N_dot['N_0'].iloc[500:2000], label='$\\dot{N}_0$')\n",
        "plt.xlabel('Energie [kev]')\n",
        "plt.legend()\n",
        "plt.ylabel('Zählrate [s⁻¹]')\n",
        "plt.savefig('images/p0g.png', dpi=300)\n",
        "# plt.ylabel('$\\dot{N} = \\dot{N}_G - \\dot{N}_0$')\n"
      ],
      "outputs": [],
      "execution_count": null,
      "metadata": {
        "collapsed": false,
        "outputHidden": false,
        "inputHidden": false
      }
    },
    {
      "cell_type": "code",
      "source": [
        "plt.plot(N_dot['K'].iloc[800:1250], N_dot['hist'].iloc[800:1250])\n",
        "hist_fit, hist_dev = curve_fit(gaussian, N_dot['K'].iloc[800:1250], N_dot['hist'].iloc[800:1250], p0=[1, 960, 10])\n",
        "plt.plot(N_dot['K'].iloc[800:1250], [ gaussian(i, hist_fit[0], hist_fit[1], hist_fit[2]) for i in N_dot['K'].iloc[800:1250]])\n",
        "hist_fit\n",
        "\n",
        "hist_1_fit, hist_1_dev = curve_fit(gaussian, N_dot['K'].iloc[800:1250], N_dot['hist'].iloc[800:1250], p0=[1, 1075, 10])\n",
        "plt.plot(N_dot['K'].iloc[1050:1250], [ gaussian(i, hist_1_fit[0], hist_1_fit[1], hist_1_fit[2]) for i in N_dot['K'].iloc[1050:1250]])\n"
      ],
      "outputs": [],
      "execution_count": null,
      "metadata": {
        "collapsed": false,
        "outputHidden": false,
        "inputHidden": false
      }
    },
    {
      "cell_type": "code",
      "source": [
        "plt.plot([ e_of_k(i) for i in N_dot['K'].iloc[800:1150]], N_dot['hist'].iloc[800:1150])\n",
        "hist_fit, hist_dev = curve_fit(gaussian, [ e_of_k(i) for i in N_dot['K'].iloc[800:1250]], N_dot['hist'].iloc[800:1250], p0=[1, 50, 10])\n",
        "plt.plot([ e_of_k(i) for i in N_dot['K'].iloc[800:1050]], [ gaussian(i, hist_fit[0], hist_fit[1], hist_fit[2]) for i in [ e_of_k(i) for i in N_dot['K'].iloc[800:1050]]])\n",
        "# plt.plot([ e_of_k(i) for i in N_dot['K'].iloc[1050:1100]], N_dot['hist'].iloc[1050:1100])\n",
        "hist_1_fit, hist_1_dev = curve_fit(gaussian, [ e_of_k(i) for i in N_dot['K'].iloc[1050:1100]], N_dot['hist'].iloc[1050:1100], p0=[1, 61, 2])\n",
        "plt.plot([ e_of_k(i) for i in N_dot['K'].iloc[1050:1150]], [ gaussian(i, hist_1_fit[0], hist_1_fit[1], hist_1_fit[2]) for i in [ e_of_k(i) for i in N_dot['K'].iloc[1050:1150]]])\n",
        "plt.xlabel('Energie [kev]')\n",
        "plt.ylabel('Zählrate [s⁻¹]')\n",
        "plt.savefig('images/histfit.png', dpi=300)"
      ],
      "outputs": [],
      "execution_count": null,
      "metadata": {
        "collapsed": false,
        "outputHidden": false,
        "inputHidden": false
      }
    }
  ],
  "metadata": {
    "kernelspec": {
      "argv": [
        "/home/felixsoest/Documents/studium/prak/prak/bin/python",
        "-m",
        "ipykernel_launcher",
        "-f",
        "{connection_file}"
      ],
      "display_name": "Praktikum",
      "language": "python",
      "name": "prak"
    }
  },
  "nbformat": 4,
  "nbformat_minor": 0
}