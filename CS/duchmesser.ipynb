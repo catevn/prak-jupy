{
  "cells": [
    {
      "cell_type": "code",
      "source": [
        "import pandas as pd\n",
        "import numpy as np\n",
        "import matplotlib.pyplot as plt"
      ],
      "outputs": [],
      "execution_count": null,
      "metadata": {
        "collapsed": false,
        "outputHidden": false,
        "inputHidden": false
      }
    },
    {
      "cell_type": "code",
      "source": [
        "durch = pd.DataFrame()\n",
        "null = pd.DataFrame()\n",
        "durch['2mm'] = np.genfromtxt('data/VI_2mm.txt')\n",
        "durch['6mm'] = np.genfromtxt('data/IV_60_Alu.txt')\n",
        "durch['8mm'] = np.genfromtxt('data/VI_8mm.txt')\n",
        "durch['15mm'] = np.genfromtxt('data/VI_15mm.txt')\n",
        "durch['20mm'] = np.genfromtxt('data/VI_20mm.txt')\n",
        "null['Null'] = np.genfromtxt('data/IV_60_N0.txt')"
      ],
      "outputs": [],
      "execution_count": null,
      "metadata": {
        "collapsed": false,
        "outputHidden": false,
        "inputHidden": false
      }
    },
    {
      "cell_type": "code",
      "source": [
        "# Zählrate bestimmen\n",
        "durch_rate = pd.DataFrame()\n",
        "for i in durch.columns:\n",
        "    durch_rate[i] = durch[i].iloc[2:] / (durch[i].iloc[0]-durch[i].iloc[1])\n",
        "null_rate = pd.DataFrame()\n",
        "null_rate['Null'] = null['Null'].iloc[2:] / (null['Null'].iloc[0]-null['Null'].iloc[1])"
      ],
      "outputs": [],
      "execution_count": null,
      "metadata": {
        "collapsed": false,
        "outputHidden": false,
        "inputHidden": false
      }
    },
    {
      "cell_type": "code",
      "source": [
        "# Nullrate abziehen\n",
        "durch_cleaned = pd.DataFrame()\n",
        "for i in durch_rate.columns:\n",
        "    durch_cleaned[i] = durch_rate[i] - null_rate['Null']"
      ],
      "outputs": [],
      "execution_count": null,
      "metadata": {
        "collapsed": false,
        "outputHidden": false,
        "inputHidden": false
      }
    },
    {
      "cell_type": "code",
      "source": [
        "delta_null = np.sqrt(null['Null'].iloc[2:].sum())/ (null['Null'].iloc[0]-null['Null'].iloc[1])\n",
        "durch_n_delta = []\n",
        "for i in durch.columns:\n",
        "    durch_n_delta.append(np.sqrt(durch[i].iloc[2:].sum())/ (durch[i].iloc[0]-durch[i].iloc[1]))\n",
        "delta_n = np.sqrt(np.asarray(durch_n_delta)**2 + delta_null**2)"
      ],
      "outputs": [],
      "execution_count": null,
      "metadata": {
        "collapsed": false,
        "outputHidden": false,
        "inputHidden": false
      }
    },
    {
      "cell_type": "code",
      "source": [
        "from scipy.optimize import curve_fit\n",
        "def exp_fit(x, a, b):\n",
        "    return a*(1 - np.exp(b*x))"
      ],
      "outputs": [],
      "execution_count": null,
      "metadata": {
        "collapsed": false,
        "outputHidden": false,
        "inputHidden": false
      }
    },
    {
      "cell_type": "code",
      "source": [
        "durchmesser_summe = durch_cleaned.sum()\n",
        "d = [2, 6, 8, 15, 20]\n",
        "plt.errorbar(d, durchmesser_summe, xerr=0.05, yerr=delta_n, fmt='x', label='$\\dot{N}_G - \\dot{N}_0$')\n",
        "plt.xlabel('Durchmesser Streukörper [mm]')\n",
        "plt.ylabel('Gesamtzählrate [s⁻¹]')\n",
        "fit, std = curve_fit(exp_fit, d, durchmesser_summe, p0=[20, -1])\n",
        "plt.plot(np.linspace(2, 20, 100), [ exp_fit(i, fit[0], fit[1]) for i in np.linspace(2,20,100)], label='Fit')\n",
        "plt.legend()\n",
        "plt.savefig('images/durchmesser.png', dpi=300)"
      ],
      "outputs": [],
      "execution_count": null,
      "metadata": {
        "collapsed": false,
        "outputHidden": false,
        "inputHidden": false
      }
    }
  ],
  "metadata": {
    "kernelspec": {
      "argv": [
        "/home/felixsoest/Documents/studium/prak/prak/bin/python",
        "-m",
        "ipykernel_launcher",
        "-f",
        "{connection_file}"
      ],
      "display_name": "Praktikum",
      "language": "python",
      "name": "prak"
    }
  },
  "nbformat": 4,
  "nbformat_minor": 0
}