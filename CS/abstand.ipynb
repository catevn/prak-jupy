{
  "cells": [
    {
      "cell_type": "code",
      "source": [
        "import pandas as pd\n",
        "import numpy as np\n",
        "import matplotlib.pyplot as plt\n",
        "from scipy.optimize import curve_fit"
      ],
      "outputs": [],
      "execution_count": null,
      "metadata": {
        "collapsed": false,
        "outputHidden": false,
        "inputHidden": false
      }
    },
    {
      "cell_type": "code",
      "source": [
        "# Datenimport\n",
        "abstand = pd.DataFrame()\n",
        "abstand['3cm'] = np.genfromtxt('data/IV_60_Alu.txt')\n",
        "abstand['4cm'] = np.genfromtxt('data/VII_4cm.txt')\n",
        "abstand['5cm'] = np.genfromtxt('data/VII_5cm.txt')\n",
        "abstand['6cm'] = np.genfromtxt('data/VII_6cm.txt')\n",
        "abstand['7cm'] = np.genfromtxt('data/VII_7cm.txt')\n",
        "abstand['8cm'] = np.genfromtxt('data/VII_8cm.txt')\n",
        "abstand['9cm'] = np.genfromtxt('data/VII_9cm.txt')\n",
        "abstand['10cm'] = np.genfromtxt('data/VII_10cm.txt')\n",
        "abstand['11cm'] = np.genfromtxt('data/VII_11cm.txt')\n",
        "abstand['12cm'] = np.genfromtxt('data/VII_12cm.txt')"
      ],
      "outputs": [],
      "execution_count": null,
      "metadata": {
        "collapsed": false,
        "outputHidden": false,
        "inputHidden": false
      }
    },
    {
      "cell_type": "code",
      "source": [
        "# Zählrate bestimmen\n",
        "abstand_rate = pd.DataFrame()\n",
        "for i in abstand.columns:\n",
        "    abstand_rate[i] = abstand[i].iloc[2:] / (abstand[i].iloc[0]-abstand[i].iloc[1])"
      ],
      "outputs": [],
      "execution_count": null,
      "metadata": {
        "collapsed": false,
        "outputHidden": false,
        "inputHidden": false
      }
    },
    {
      "cell_type": "code",
      "source": [
        "# Messunsicherheiten\n",
        "abstand_n_delta = []\n",
        "for i in abstand.columns:\n",
        "    abstand_n_delta.append(np.sqrt(abstand[i].iloc[2:].sum())/ (abstand[i].iloc[0]-abstand[i].iloc[1]))\n",
        "delta_n = np.asarray(abstand_n_delta)"
      ],
      "outputs": [],
      "execution_count": null,
      "metadata": {
        "collapsed": false,
        "outputHidden": false,
        "inputHidden": false
      }
    },
    {
      "cell_type": "code",
      "source": [
        "# Funktion zu fitten\n",
        "def I(x, a, b, c):\n",
        "    return a/(np.pi * 4 * (x-b)**2)+c"
      ],
      "outputs": [],
      "execution_count": null,
      "metadata": {
        "collapsed": false,
        "outputHidden": false,
        "inputHidden": false
      }
    },
    {
      "cell_type": "code",
      "source": [
        "i, i_std = curve_fit(I, np.linspace(3, 12, 10), abstand_rate.sum(), p0=[24,0,10], maxfev=1000)"
      ],
      "outputs": [],
      "execution_count": null,
      "metadata": {
        "collapsed": false,
        "outputHidden": false,
        "inputHidden": false
      }
    },
    {
      "cell_type": "code",
      "source": [
        "plt.errorbar(np.linspace(3, 12, 10), abstand_rate.sum(), fmt='x', xerr=0.2, yerr=delta_n, label='$\\dot{N}_G$')\n",
        "plt.plot(np.linspace(3, 12, 1000), [I(j, i[0], i[1], i[2]) for j in np.linspace(3, 12, 1000)], label='Fit')\n",
        "plt.xlabel('Abstand Quelle Streukörper [cm]')\n",
        "plt.ylabel('Zählrate [s⁻¹]')\n",
        "plt.legend()\n",
        "plt.savefig('images/abstand.png', dpi=300)"
      ],
      "outputs": [],
      "execution_count": null,
      "metadata": {
        "collapsed": false,
        "outputHidden": false,
        "inputHidden": false
      }
    },
    {
      "cell_type": "code",
      "source": [
        "abstand_rate.iloc[950:1100].plot()"
      ],
      "outputs": [],
      "execution_count": null,
      "metadata": {
        "collapsed": false,
        "outputHidden": false,
        "inputHidden": false
      }
    },
    {
      "cell_type": "code",
      "source": [
        "abstand_normiert = pd.DataFrame()\n",
        "for i in abstand_rate.columns:\n",
        "    abstand_normiert[i] = abstand_rate['3cm'].max() * abstand_rate[i] / abstand_rate[i].max()\n",
        "abstand_normiert.iloc[950:1100].plot()"
      ],
      "outputs": [],
      "execution_count": null,
      "metadata": {
        "collapsed": false,
        "outputHidden": false,
        "inputHidden": false
      }
    },
    {
      "cell_type": "code",
      "source": [
        "def gaussian(x, a, x_0, sigma):\n",
        "    return a*np.exp(-(x-x_0)**2/sigma**2)"
      ],
      "outputs": [],
      "execution_count": null,
      "metadata": {
        "collapsed": false,
        "outputHidden": false,
        "inputHidden": false
      }
    },
    {
      "cell_type": "code",
      "source": [
        "breite = []\n",
        "breite_std = []\n",
        "abstand_normiert['N'] = np.asarray(range(16382)) + 1\n",
        "abstand_normiert.describe()\n",
        "for i in abstand_normiert.drop(columns=['N']).columns:\n",
        "    fit, std = curve_fit(gaussian, abstand_normiert['N'].iloc[980:1050], abstand_normiert[i].iloc[980:1050], p0=[0.3, 1010, 3])\n",
        "    breite.append(fit[2])\n",
        "    breite_std.append(np.sqrt(std[2][2]))\n",
        "\n",
        "plt.errorbar(np.linspace(3,12,10), breite, fmt='x', yerr=breite_std, xerr=0.2)\n",
        "plt.xlabel('Abstand Quelle Streukörper [cm]')\n",
        "plt.ylabel('Peakbreite Kanal [-]')\n",
        "plt.savefig('images/peakbreite.png', dpi=300)"
      ],
      "outputs": [],
      "execution_count": null,
      "metadata": {
        "collapsed": false,
        "outputHidden": false,
        "inputHidden": false
      }
    }
  ],
  "metadata": {
    "kernelspec": {
      "argv": [
        "/home/felixsoest/Documents/studium/prak/prak/bin/python",
        "-m",
        "ipykernel_launcher",
        "-f",
        "{connection_file}"
      ],
      "display_name": "Praktikum",
      "language": "python",
      "name": "prak"
    }
  },
  "nbformat": 4,
  "nbformat_minor": 0
}