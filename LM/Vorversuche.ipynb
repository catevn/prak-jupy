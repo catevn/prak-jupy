{
  "cells": [
    {
      "cell_type": "code",
      "source": [
        "# Versuch Lebensdauer von Myonen\n",
        "\n",
        "# Felix Soest & Sebastian Thiede\n",
        "# Betreuer: M.Sc. Anne-Sophie Berthold\n",
        "# Datum: 15.11.2019\n",
        "# Ort: ASBK15a, IKTP TU Dresden, Zellescher Weg 19, 01069 Dresden"
      ],
      "outputs": [],
      "execution_count": null,
      "metadata": {
        "collapsed": false,
        "outputHidden": false,
        "inputHidden": false
      }
    },
    {
      "cell_type": "code",
      "source": [
        "import pandas as pd\n",
        "import numpy as np\n",
        "import matplotlib.pyplot as plt\n",
        "\n",
        "# Wir nehmen für die ersten zwei Aufgaben sowohl das Koinzidenzsignal (123) als auch\n",
        "# das Signal von PM1/PM2 für Spannungen im Bereich von 1800V-2400V in 50V-Schritten auf.\n",
        "# Für jede dieser Aufgaben muss die Messzeit ermittelt werden, für die gefordert wird,\n",
        "# dass der relative Fehler der Koinzidenzsignale <= 3% bei 2300V für PM1/PM2 ist.\n",
        "# Daraus folgt, dass wir mind. 1112 Ereignisse (bei 2300V) brauchen.\n"
      ],
      "outputs": [],
      "execution_count": null,
      "metadata": {
        "collapsed": false,
        "outputHidden": false,
        "inputHidden": false
      }
    },
    {
      "cell_type": "code",
      "source": [
        "# Aufgabe 1: Kennlinie PM1\n",
        "# An PM2 wurde eine Spannung von 2400V angelegt, an PM3 eine Spannung von 2200V\n",
        "\n",
        "# Ermittelte Messzeit für >= 1112 Ereignisse: 158s\n",
        "# Kennlinie PM1\n",
        "N_of_U = pd.DataFrame()\n",
        "N_of_U['Voltage'] = np.linspace(1800, 2400, 13) # Spannungen von 1800V bis 2400V in 50V schritten an PM1\n",
        "N_of_U['Counts'] = [24, 44, 99, 119, 247, 333, 485, 592, 761, 928, 1078, 1242, 1338] # Koinzidenzen für 1800V, 1850V, ..., 2400V\n",
        "N_of_U['PM1'] = [83, 195, 323, 525, 892, 1348, 2028, 2963, 4066, 5520, 7237, 9300, 11327] # Ereignisse an PM1 für 1800V, 1850V, ..., 2400V\n",
        "N_of_U['Counts_err'] = np.sqrt(N_of_U['Counts']) #Fehler ist Wurzel aus der Anzahl der Ereignisse (Poisson-Verteilung)\n",
        "N_of_U['PM1_err'] = np.sqrt(N_of_U['PM1'])\n",
        "# Plot\n",
        "plt.errorbar(N_of_U['Voltage'], N_of_U['Counts'], yerr=N_of_U['Counts_err'], xerr=5, capsize=3, c='black', ecolor='red', fmt='+')\n",
        "plt.errorbar(N_of_U['Voltage'], N_of_U['PM1'], yerr=N_of_U['PM1_err'], xerr=5, capsize=3, fmt='+')\n",
        "plt.legend(['(123)', 'PM1'])\n",
        "# plt.title('Kennlinie PM1')\n",
        "plt.xlabel('$U_{1,HV} \\ [V]$')\n",
        "plt.ylabel('Ereignisse [-]')\n",
        "plt.savefig('images/pm1.png', dpi=300)\n"
      ],
      "outputs": [],
      "execution_count": null,
      "metadata": {
        "collapsed": false,
        "outputHidden": false,
        "inputHidden": false
      }
    },
    {
      "cell_type": "code",
      "source": [
        "# Aufgabe 2: Kennlinie PM2\n",
        "# An PM1 wurde eine Spannung von 2400V angelegt, an PM3 eine Spannung von 2200V\n",
        "\n",
        "# Ermittelte Messzeit für >= 1112 Ereignisse: 182s\n",
        "# Kennlinie PM2\n",
        "PM2 = pd.DataFrame()\n",
        "PM2['Voltage'] = np.linspace(1800, 2400, 13)\n",
        "# Spannungen von 1800V bis 2400V in 50V schritten an PM1\n",
        "PM2['Counts'] = [14, 21, 33, 41, 112, 155, 304, 442, 657, 851, 1157, 1370, 1651]\n",
        "# Koinzidenzen für 1800V, 1850V, ..., 2400V\n",
        "PM2['PM2'] = [34, 55, 119, 171, 307, 536, 905, 1457, 2227, 3227, 4694, 6337, 8657]\n",
        "# Ereignisse an PM2 für 1800V, 1850V, ..., 2400V\n",
        "PM2['Counts_err'] = np.sqrt(PM2['Counts'])\n",
        "#Fehler ist Wurzel aus der Anzahl der Ereignisse (Poisson-Verteilung)\n",
        "PM2['PM2_err'] = np.sqrt(PM2['PM2'])\n",
        "plt.errorbar(PM2['Voltage'], PM2['Counts'], yerr=PM2['Counts_err'], xerr=5, capsize=3, c='black', ecolor='red', fmt='+')\n",
        "plt.errorbar(PM2['Voltage'], PM2['PM2'], yerr=PM2['PM2_err'], xerr=5, capsize=3, fmt='+')\n",
        "plt.legend(['(123)', 'PM2'])\n",
        "# plt.title('Kennlinie PM2')\n",
        "plt.xlabel('$U_{2,HV} \\ [V]$')\n",
        "plt.ylabel('Ereignisse [-]')\n",
        "plt.savefig('images/pm2.png', dpi=300)\n"
      ],
      "outputs": [],
      "execution_count": null,
      "metadata": {
        "collapsed": false,
        "outputHidden": false,
        "inputHidden": false
      }
    },
    {
      "cell_type": "code",
      "source": [
        "# Aufgabe 3: Lichtpulser Messung\n",
        "# Der Lichtpulser sendet Lichtsignale mit einer Frequenz von 1 kHz\n",
        "# Mittelung über 128 Messungen\n",
        "\n",
        "LP = pd.DataFrame()\n",
        "\n",
        "# Spannung in 7 Schritten\n",
        "LP['Voltage'] = np.linspace(1800, 2400, 7)\n",
        "\n",
        "# [U] = mV, Benutztes Oszilloskop: Tektronix TDS 2014\n",
        "LP['PM1'] = [126, 188, 294, 446, 688, 1000, 1560]\n",
        "LP['PM2'] = [1520, 1920, 2500, 3360, 4760, 6600, 9920]\n",
        "LP['PM3'] = [3720, 6280, 10100, 16400, 25400, 37400, 56000]\n",
        "\n",
        "plt.errorbar(LP['Voltage'], LP['PM1'], xerr=5, fmt='x')\n",
        "plt.errorbar(LP['Voltage'], LP['PM2'], xerr=5, fmt='x')\n",
        "plt.errorbar(LP['Voltage'], LP['PM3'], xerr=5, fmt='x')\n",
        "plt.title('Pulshöhe in Abhängigkeit von der Hochspannung')\n",
        "plt.xlabel('Hochspannung $[V]$')\n",
        "plt.ylabel('Pulshöhe $[mV]$')\n",
        "plt.legend(['PM1', 'PM2', 'PM3'])\n",
        "plt.savefig('images/pulse.png', dpi=300)"
      ],
      "outputs": [],
      "execution_count": null,
      "metadata": {
        "collapsed": false,
        "outputHidden": false,
        "inputHidden": false
      }
    },
    {
      "cell_type": "code",
      "source": [
        "plt.plot(LP['Voltage'], LP['PM1'])"
      ],
      "outputs": [],
      "execution_count": null,
      "metadata": {
        "collapsed": false,
        "outputHidden": false,
        "inputHidden": false
      }
    },
    {
      "cell_type": "code",
      "source": [
        "\n",
        "def normalize(data):\n",
        "    return (data - min(data)) / (max(data)-min(data))\n",
        "\n",
        "plt.errorbar(normalize(LP['Voltage']), normalize(LP['PM1']), fmt='.')\n",
        "plt.errorbar(normalize(LP['Voltage']), normalize(LP['PM2']), fmt='.')\n",
        "plt.errorbar(normalize(LP['Voltage']), normalize(LP['PM3']), fmt='.')\n",
        "plt.legend(['PM1', 'PM2', 'PM3'])\n",
        "plt.xlabel('Hochspannung normalisiert [-]')\n",
        "plt.ylabel('Pulshöhe normalisiert [-]')\n",
        "plt.savefig('images/normiert.png', dpi=300)"
      ],
      "outputs": [],
      "execution_count": null,
      "metadata": {
        "collapsed": false,
        "outputHidden": false,
        "inputHidden": false
      }
    }
  ],
  "metadata": {
    "kernelspec": {
      "argv": [
        "/home/felixsoest/Documents/studium/ml/mlenv/bin/python",
        "-m",
        "ipykernel_launcher",
        "-f",
        "{connection_file}"
      ],
      "display_name": "mlenv",
      "language": "python",
      "name": "mlenv"
    }
  },
  "nbformat": 4,
  "nbformat_minor": 0
}