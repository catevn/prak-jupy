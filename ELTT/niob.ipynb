{
 "cells": [
  {
   "cell_type": "code",
   "execution_count": 1,
   "metadata": {
    "jupyter": {
     "outputs_hidden": false,
     "source_hidden": false
    },
    "nteract": {
     "transient": {
      "deleting": false
     }
    }
   },
   "outputs": [],
   "source": [
    "import numpy as np\n",
    "import matplotlib.pyplot as plt\n",
    "import pandas as pd\n",
    "from scipy.optimize import curve_fit\n"
   ]
  },
  {
   "cell_type": "code",
   "execution_count": 2,
   "metadata": {
    "jupyter": {
     "outputs_hidden": false,
     "source_hidden": false
    },
    "nteract": {
     "transient": {
      "deleting": false
     }
    }
   },
   "outputs": [
    {
     "name": "stdout",
     "output_type": "stream",
     "text": [
      "0.03231550979106642\n"
     ]
    }
   ],
   "source": [
    "\n",
    "# Berechnung des Magnetfelds --> Biot-Savart\n",
    "abstand = ((16.5/2) - 8)/1000\n",
    "laenge = 0.147\n",
    "radius = 0.01965\n",
    "B_durch_I = 1.25663706212 * 1e-6 * (3913/(2*laenge)) * (((abstand+(laenge/2))/((radius**2+(abstand+(laenge/2))**2)**0.5)) - ((abstand-(laenge/2))/((radius**2+(abstand-(laenge/2))**2)**0.5)))\n",
    "print(B_durch_I)\n"
   ]
  },
  {
   "cell_type": "code",
   "execution_count": 3,
   "metadata": {
    "jupyter": {
     "outputs_hidden": false,
     "source_hidden": false
    },
    "nteract": {
     "transient": {
      "deleting": false
     }
    }
   },
   "outputs": [
    {
     "name": "stdout",
     "output_type": "stream",
     "text": [
      "-0.021521739130434786\n"
     ]
    }
   ],
   "source": [
    "# theoretisch erwarteter Wert für die Steigung\n",
    "xi_0_theo = np.sqrt(2.07e-15 / (2*np.pi*0.198))\n",
    "S_theoretisch = - 2.07e-15 / (2*np.pi*((xi_0_theo)**2)*9.2)\n",
    "print(S_theoretisch)\n"
   ]
  },
  {
   "cell_type": "code",
   "execution_count": 4,
   "metadata": {
    "jupyter": {
     "outputs_hidden": false,
     "source_hidden": false
    },
    "nteract": {
     "transient": {
      "deleting": false
     }
    }
   },
   "outputs": [
    {
     "name": "stdout",
     "output_type": "stream",
     "text": [
      "-0.014350344135602714\n",
      "4.924462214853391e-08\n"
     ]
    }
   ],
   "source": [
    "# Berechnung von xi_0 für 0,1 A Schritte\n",
    "TC = 9.46696\n",
    "S = 1/(-69.68474)\n",
    "print(S)\n",
    "xi_0 = (-(2.07e-15)/(2*np.pi*S*TC))**0.5\n",
    "print(xi_0)\n"
   ]
  },
  {
   "cell_type": "code",
   "execution_count": 5,
   "metadata": {
    "jupyter": {
     "outputs_hidden": false,
     "source_hidden": false
    },
    "nteract": {
     "transient": {
      "deleting": false
     }
    }
   },
   "outputs": [
    {
     "name": "stdout",
     "output_type": "stream",
     "text": [
      "-0.11739404013937021\n",
      "1.721737516790985e-08\n"
     ]
    }
   ],
   "source": [
    "# Berechnung von xi_0 für 1 A Schritte\n",
    "TC = 9.46696\n",
    "S = 1/(-8.51832)\n",
    "print(S)\n",
    "xi_0 = (-(2.07e-15)/(2*np.pi*S*TC))**0.5\n",
    "print(xi_0)\n"
   ]
  },
  {
   "cell_type": "code",
   "execution_count": 6,
   "metadata": {
    "jupyter": {
     "outputs_hidden": false,
     "source_hidden": false
    },
    "nteract": {
     "transient": {
      "deleting": false
     }
    }
   },
   "outputs": [
    {
     "name": "stdout",
     "output_type": "stream",
     "text": [
      "1.1176887009134053e-07\n"
     ]
    }
   ],
   "source": [
    "\n",
    "deltaS = 1/(0.81)**2\n",
    "\n",
    "deltaTC = 0.00439\n",
    "\n",
    "deltaXi_0 = np.sqrt((0.5*np.sqrt(-(2.07e-15)/(2*np.pi*(S**3)*TC))*deltaS)**2+(0.5*np.sqrt(-(2.07e-15)/(2*np.pi*S*(TC)**3))*deltaTC)**2)\n",
    "\n",
    "print(deltaXi_0)\n"
   ]
  },
  {
   "cell_type": "code",
   "execution_count": 7,
   "metadata": {
    "jupyter": {
     "outputs_hidden": false,
     "source_hidden": false
    },
    "nteract": {
     "transient": {
      "deleting": false
     }
    }
   },
   "outputs": [
    {
     "name": "stdout",
     "output_type": "stream",
     "text": [
      "7.600974555706635e-09\n",
      "9.868546504902506e-08\n"
     ]
    }
   ],
   "source": [
    "\n",
    "l = xi_0**2/(39e-9)\n",
    "print(l)\n",
    "\n",
    "deltaL = 2*xi_0/(39e-9)*deltaXi_0\n",
    "print(deltaL)\n"
   ]
  },
  {
   "cell_type": "code",
   "execution_count": 8,
   "metadata": {
    "jupyter": {
     "outputs_hidden": false,
     "source_hidden": false
    },
    "nteract": {
     "transient": {
      "deleting": false
     }
    }
   },
   "outputs": [
    {
     "name": "stdout",
     "output_type": "stream",
     "text": [
      "1.721737516790985e-08\n"
     ]
    }
   ],
   "source": [
    "\n",
    "def xi_GL(T):\n",
    "    return (xi_0/((1-(T/TC))**0.5))\n",
    "\n",
    "print(xi_GL(0))\n"
   ]
  },
  {
   "cell_type": "code",
   "execution_count": 9,
   "metadata": {
    "jupyter": {
     "outputs_hidden": false,
     "source_hidden": false
    },
    "nteract": {
     "transient": {
      "deleting": false
     }
    }
   },
   "outputs": [
    {
     "name": "stdout",
     "output_type": "stream",
     "text": [
      "0.2255226157504305\n",
      "0.0037517438668711743\n"
     ]
    }
   ],
   "source": [
    "\n",
    "B_T = 1*B_durch_I\n",
    "T = 8.76248\n",
    "deltaT = 6.63981e-5\n",
    "\n",
    "B_c2_0 = B_T/((1-(T/TC)**2))\n",
    "print(B_c2_0)\n",
    "\n",
    "part1 = (-2*B_T)/(1-(T/TC)**2)**2\n",
    "deltaB_c2_0 = np.sqrt((part1*((-2*T)/(TC**2))*deltaT)**2+(part1*((3*T**2)/(TC**3))*deltaTC)**2)\n",
    "print(deltaB_c2_0)\n"
   ]
  },
  {
   "cell_type": "code",
   "execution_count": 10,
   "metadata": {
    "jupyter": {
     "outputs_hidden": false,
     "source_hidden": false
    },
    "nteract": {
     "transient": {
      "deleting": false
     }
    }
   },
   "outputs": [
    {
     "name": "stdout",
     "output_type": "stream",
     "text": [
      "Beste Debye-Temperatur: 219.38834390011027 K # Unsicherheit: 0.4227173959821815 K\n"
     ]
    },
    {
     "data": {
      "image/png": "[encoded data removed]",
      "text/plain": [
       "<Figure size 432x288 with 1 Axes>"
      ]
     },
     "metadata": {
      "needs_background": "light"
     },
     "output_type": "display_data"
    }
   ],
   "source": [
    "\n",
    "# Bestimmung der Debeye-Temperatur:\n",
    "\n",
    "nbsi = pd.read_table('data_edited/nbsi81119_edited.dat', header=2, dtype=np.float64) # Daten einlesen\n",
    "\n",
    "nbsi['R_T'] = nbsi['R_Probe_1'] - nbsi['R_Probe_1'].iloc[nbsi['R_Probe_1'].values.argmin()]\n",
    "\n",
    "plt.plot(nbsi['Temperatur'], nbsi['R_T'], color='k', linestyle='--')\n",
    "\n",
    "begin = 150 # Dies ist der Anfang des Bereiches, in dem die Debye-Temperatur bestimmt wird\n",
    "end = 300   # Hier das Ende (kann auch weggelassen werden, 300K ist mehr als wir im Experiment erreicht haben.)\n",
    "\n",
    "niob_T = np.asarray(nbsi['Temperatur'][nbsi['Temperatur'] > begin][nbsi['Temperatur'] < end])\n",
    "niob_R = np.asarray(nbsi['R_T'][nbsi['Temperatur'] > begin][nbsi['Temperatur'] < end])\n",
    "\n",
    "plt.plot(niob_T, niob_R, color='r')\n",
    "\n",
    "def niob_R_abh(T):  # Diese Funktion findet zu jeder Temperatur den nähsten Widerstand aus den Messwerten\n",
    "    idx = np.argmin(abs(niob_T - T))    # Hier finden wir den Index in unserem niob_T - Array von eben jener Temperatur, die am nähsten zur gegebenen liegt.\n",
    "    return(niob_R[idx]) # Da der Index im Niob_T - Array zum gleichen Index im Niob_R - Array gehört, bekommen wir so den passenden Widerstandswert.\n",
    "\n",
    "def Gruen_Borel(T, deb): # Das ist die Grüneisen-Borelius-Beziehung, für die die passenste Debye-Temperatur gefunden werden soll.\n",
    "    return 1.17*niob_R_abh(deb)*T/deb - 0.17*niob_R_abh(deb)    # Für die Debeye Temperatur wird der \"funktionale Zusammenhang\" Debye(T) durch die Messwerte R(T) bestimmt.\n",
    "\n",
    "bestDebye, bestDebye_std = curve_fit(Gruen_Borel, niob_T, niob_R) # Dieser Fit findet die optimale Debye Temperatur.\n",
    "err = (np.sqrt(np.diag(bestDebye_std))[0])\n",
    "\n",
    "print('Beste Debye-Temperatur:', bestDebye[0], 'K # Unsicherheit:', err, 'K')\n",
    "\n",
    "plt.axvline(bestDebye[0], color='g', linestyle=':')\n",
    "plt.show()\n"
   ]
  },
  {
   "cell_type": "code",
   "execution_count": 11,
   "metadata": {
    "jupyter": {
     "outputs_hidden": false,
     "source_hidden": false
    },
    "nteract": {
     "transient": {
      "deleting": false
     }
    }
   },
   "outputs": [
    {
     "data": {
      "image/png": "[encoded data removed]",
      "text/plain": [
       "<Figure size 432x288 with 1 Axes>"
      ]
     },
     "metadata": {
      "needs_background": "light"
     },
     "output_type": "display_data"
    }
   ],
   "source": [
    "\n",
    "# universelle Auftragung\n",
    "\n",
    "plt.plot(nbsi['Temperatur']/bestDebye[0], nbsi['R_T']/(niob_R_abh(bestDebye[0])))\n",
    "plt.xlabel('$T / \\Theta_D$ [-]')\n",
    "plt.ylabel('$R(T)/R(\\Theta_D)$ [-]')\n",
    "plt.savefig('images/reduziertNiob.png', dpi=300)\n",
    "plt.show()"
   ]
  },
  {
   "cell_type": "code",
   "execution_count": null,
   "metadata": {},
   "outputs": [],
   "source": []
  }
 ],
 "metadata": {
  "kernelspec": {
   "display_name": "Python 3",
   "language": "python",
   "name": "python3"
  },
  "language_info": {
   "codemirror_mode": {
    "name": "ipython",
    "version": 3
   },
   "file_extension": ".py",
   "mimetype": "text/x-python",
   "name": "python",
   "nbconvert_exporter": "python",
   "pygments_lexer": "ipython3",
   "version": "3.8.1"
  }
 },
 "nbformat": 4,
 "nbformat_minor": 1
}
