{
 "cells": [
  {
   "cell_type": "code",
   "execution_count": 1,
   "metadata": {
    "jupyter": {
     "outputs_hidden": false,
     "source_hidden": false
    },
    "nteract": {
     "transient": {
      "deleting": false
     }
    }
   },
   "outputs": [],
   "source": [
    "import numpy as np\n",
    "import matplotlib.pyplot as plt\n",
    "import pandas as pd\n",
    "from scipy.optimize import curve_fit\n"
   ]
  },
  {
   "cell_type": "code",
   "execution_count": 2,
   "metadata": {
    "jupyter": {
     "outputs_hidden": false,
     "source_hidden": false
    },
    "nteract": {
     "transient": {
      "deleting": false
     }
    }
   },
   "outputs": [],
   "source": [
    "\n",
    "cusi = pd.read_table('data_edited/cusi81119_edited.dat', header=3, dtype=np.float64) # Daten einlesen\n",
    "cu = np.column_stack((np.asarray(cusi['Temperatur']), np.asarray(cusi['R_Probe_1']))) # Array mit Messpunkten erstellen\n",
    "# print(cu)\n"
   ]
  },
  {
   "cell_type": "code",
   "execution_count": 3,
   "metadata": {
    "jupyter": {
     "outputs_hidden": false,
     "source_hidden": false
    },
    "nteract": {
     "transient": {
      "deleting": false
     }
    }
   },
   "outputs": [
    {
     "name": "stdout",
     "output_type": "stream",
     "text": [
      "RRR = 79.06426332288402\n",
      "Index für 4.2 K: 0 # Differenz[K] zw. 4.2K und ausgewähltem Wert: 0.2593779999999999\n",
      "Index für 300 K: 3995 # Differenz[K] zw. 300K und ausgewähltem Wert: 0.3867999999999938\n",
      "0.03828 3.02658\n"
     ]
    }
   ],
   "source": [
    "\n",
    "# RRR berechnen\n",
    "\n",
    "index_4K = len(cu)-1    # Index für Messwert mit Temperatur 4.2K\n",
    "while (cu[index_4K][0] > 4.2) and (index_4K > 0):   # Index finden\n",
    "    index_4K -= 1\n",
    "# print(index_4K)\n",
    "\n",
    "index_300K = 0   # Index für Messwert mit Temperatur 300K\n",
    "while (cu[index_300K][0] < 300) and (index_300K < len(cu)-1):   # Index finden\n",
    "    index_300K += 1\n",
    "RRR = cu[index_300K][1]/cu[index_4K][1] # RRR berechenen\n",
    "print(\"RRR =\", RRR)\n",
    "\n",
    "print(\"Index für 4.2 K:\", index_4K, \"# Differenz[K] zw. 4.2K und ausgewähltem Wert:\", cu[index_4K][0] - 4.2)\n",
    "print(\"Index für 300 K:\", index_300K, \"# Differenz[K] zw. 300K und ausgewähltem Wert:\", cu[index_300K][0] - 300)\n",
    "print(cu[index_4K][1], cu[index_300K][1])\n"
   ]
  },
  {
   "cell_type": "code",
   "execution_count": 4,
   "metadata": {
    "jupyter": {
     "outputs_hidden": false,
     "source_hidden": false
    },
    "nteract": {
     "transient": {
      "deleting": false
     }
    }
   },
   "outputs": [
    {
     "name": "stdout",
     "output_type": "stream",
     "text": [
      "3.848451000647496e-09\n",
      "spezifischer Widerstand in Omh*m: 1.1359203427041168e-08\n"
     ]
    }
   ],
   "source": [
    "\n",
    "# Rho berechnen\n",
    "\n",
    "l = 1 # in m, aus Platzanleitung\n",
    "d = 0.07e-3 # in m, aus Platzanleitung\n",
    "A = (np.pi * d**2)/4\n",
    "print(A)\n",
    "\n",
    "T_raum = 293 # Raumtemperatur in K\n",
    "index_Raumtemp = 0  # Index für Messwert mit Raumtemperatur\n",
    "while (cu[index_Raumtemp][0] < T_raum) and (index_Raumtemp < len(cu)-1):   # Index finden\n",
    "    index_Raumtemp += 1\n",
    "# print(index_Raumtemp)\n",
    "\n",
    "rho = cu[index_Raumtemp][1]*(A/l)   # spezifischen Widerstand berechnen\n",
    "print(\"spezifischer Widerstand in Omh*m:\", rho)\n"
   ]
  },
  {
   "cell_type": "code",
   "execution_count": 5,
   "metadata": {
    "jupyter": {
     "outputs_hidden": false,
     "source_hidden": false
    },
    "nteract": {
     "transient": {
      "deleting": false
     }
    }
   },
   "outputs": [
    {
     "data": {
      "text/plain": [
       "-0.6905424726231701"
      ]
     },
     "execution_count": 5,
     "metadata": {},
     "output_type": "execute_result"
    },
    {
     "data": {
      "image/png": "[encoded data removed]",
      "text/plain": [
       "<Figure size 432x288 with 1 Axes>"
      ]
     },
     "metadata": {
      "needs_background": "light"
     },
     "output_type": "display_data"
    }
   ],
   "source": [
    "def linear(x, m, c):\n",
    "    return m*x + c\n",
    "cusi['R_T'] = cusi['R_Probe_1'] - cusi['R_Probe_1'].iloc[0]\n",
    "plt.plot(cusi['Temperatur'], cusi['R_T'])\n",
    "wider, wider_std = curve_fit(linear, cusi['Temperatur'][cusi['Temperatur'] > 100][cusi['Temperatur'] < 270], cusi['R_T'][cusi['Temperatur'] > 100][cusi['Temperatur'] < 270])\n",
    "plt.plot([i for i in range(100, 270)], [ linear(i, wider[0], wider[1]) for i in range(100, 270)])\n",
    "\n",
    "wider[0]\n",
    "wider[1]"
   ]
  },
  {
   "cell_type": "code",
   "execution_count": 6,
   "metadata": {
    "jupyter": {
     "outputs_hidden": false,
     "source_hidden": false
    },
    "nteract": {
     "transient": {
      "deleting": false
     }
    }
   },
   "outputs": [
    {
     "data": {
      "text/plain": [
       "[<matplotlib.lines.Line2D at 0x7fb810981ac0>]"
      ]
     },
     "execution_count": 6,
     "metadata": {},
     "output_type": "execute_result"
    },
    {
     "data": {
      "image/png": "[encoded data removed]",
      "text/plain": [
       "<Figure size 432x288 with 1 Axes>"
      ]
     },
     "metadata": {
      "needs_background": "light"
     },
     "output_type": "display_data"
    }
   ],
   "source": [
    "def R_T(T):\n",
    "    return wider[0]*T + wider[1]\n",
    "\n",
    "def min(T, Debye):\n",
    "    return 1.17*R_T(Debye)*T/Debye - 0.17*R_T(Debye)\n",
    "deb = 400\n",
    "plt.plot([i for i in range(0, 500)], [R_T(i) for i in range(0,500)])\n",
    "plt.plot([i for i in range(0, 500)], [ min(i, deb) for i in range(0,500)])"
   ]
  },
  {
   "cell_type": "code",
   "execution_count": 7,
   "metadata": {
    "jupyter": {
     "outputs_hidden": false,
     "source_hidden": false
    },
    "nteract": {
     "transient": {
      "deleting": false
     }
    }
   },
   "outputs": [
    {
     "data": {
      "text/plain": [
       "387.469874698747"
      ]
     },
     "execution_count": 7,
     "metadata": {},
     "output_type": "execute_result"
    }
   ],
   "source": [
    "def cost(x, y, deb):\n",
    "    sum = 0\n",
    "    for i in np.linspace(380, 390, 10):\n",
    "        sum += (x(i)-y(i, deb))**2\n",
    "    return np.sqrt(sum)\n",
    "\n",
    "best_T = 3\n",
    "for T in np.linspace(380, 390, 100000):\n",
    "    if cost(R_T, min, T) < cost(R_T, min, best_T):\n",
    "        best_T = T\n",
    "\n",
    "best_T\n"
   ]
  },
  {
   "cell_type": "code",
   "execution_count": 8,
   "metadata": {
    "jupyter": {
     "outputs_hidden": false,
     "source_hidden": false
    },
    "nteract": {
     "transient": {
      "deleting": false
     }
    }
   },
   "outputs": [
    {
     "data": {
      "image/png": "[encoded data removed]",
      "text/plain": [
       "<Figure size 432x288 with 1 Axes>"
      ]
     },
     "metadata": {
      "needs_background": "light"
     },
     "output_type": "display_data"
    }
   ],
   "source": [
    "cusi['roftheta'] = cusi['R_Probe_1']/R_T(best_T)\n",
    "cusi['ttheta'] = cusi['Temperatur']/best_T\n",
    "plt.plot(cusi['ttheta'], cusi['roftheta'])\n",
    "plt.xlabel('$T / \\Theta_D$ [-]')\n",
    "plt.ylabel('$R(T)/R(\\Theta_D)$ [-]')\n",
    "plt.savefig('images/reduziert.png', dpi=300)"
   ]
  },
  {
   "cell_type": "code",
   "execution_count": null,
   "metadata": {},
   "outputs": [],
   "source": []
  },
  {
   "cell_type": "code",
   "execution_count": null,
   "metadata": {},
   "outputs": [],
   "source": []
  }
 ],
 "metadata": {
  "kernelspec": {
   "display_name": "Python 3",
   "language": "python",
   "name": "python3"
  },
  "language_info": {
   "codemirror_mode": {
    "name": "ipython",
    "version": 3
   },
   "file_extension": ".py",
   "mimetype": "text/x-python",
   "name": "python",
   "nbconvert_exporter": "python",
   "pygments_lexer": "ipython3",
   "version": "3.8.1"
  }
 },
 "nbformat": 4,
 "nbformat_minor": 1
}
